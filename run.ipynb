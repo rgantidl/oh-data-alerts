{
 "cells": [
  {
   "cell_type": "code",
   "execution_count": 1,
   "metadata": {},
   "outputs": [
    {
     "name": "stdout",
     "output_type": "stream",
     "text": [
      "2019-03-28 11:46:33.088343\n"
     ]
    }
   ],
   "source": [
    "import datetime\n",
    "print datetime.datetime.now()"
   ]
  },
  {
   "cell_type": "code",
   "execution_count": null,
   "metadata": {
    "pixiedust": {
     "displayParams": {}
    },
    "scrolled": true
   },
   "outputs": [
    {
     "name": "stdout",
     "output_type": "stream",
     "text": [
      "open-colleges\n"
     ]
    },
    {
     "data": {
      "image/png": "[encoded data removed]",
      "text/plain": [
       "<Figure size 1080x504 with 1 Axes>"
      ]
     },
     "metadata": {
      "needs_background": "light"
     },
     "output_type": "display_data"
    }
   ],
   "source": [
    "\n",
    "import pandas as pd\n",
    "from google.cloud import bigquery as bq\n",
    "import matplotlib as mp\n",
    "import os\n",
    "import smtplib\n",
    "import csv\n",
    "import sys\n",
    "import datetime as dt\n",
    "import sendgrid\n",
    "import ipdb\n",
    "import re\n",
    "from sendgrid.helpers.mail import *\n",
    "%matplotlib inline\n",
    "arg_file='inputs/.args'\n",
    "Empty_Files={}\n",
    "\n",
    "def send_mail(start_date,end_date,client,message_file):\n",
    "    with open (message_file,\"r+\") as fo:\n",
    "            msg_list=fo.readlines()\n",
    "    with open('inputs/key.env','r+') as fo:\n",
    "            key=fo.read()\n",
    "    sg = sendgrid.SendGridAPIClient(key.rstrip('\\n'))\n",
    "    if msg_list:\n",
    "          message='Below Files are either empty or not created in GBQ for date range\\\n",
    "                   '+start_date+\\\n",
    "                   ' and '  + end_date+\"\\n\"\\\n",
    "                   ' for '+client.upper()+\"\\n\"+'\\n'.join(msg_list)\n",
    "    else:\n",
    "          message='All files are available with data in date range '+start_date +' and '  + \\\n",
    "                   end_date+\"\\n\"+' for '+client.upper()+\"\\n\"\n",
    "    data = {\n",
    "        \"personalizations\": [\n",
    "            {\n",
    "            \"to\": [{\n",
    "                    \"email\": \"spillai@datalicious.com\"\n",
    "                },{\"email\":\"kchowdhury@datalicious.com\"}],\n",
    "            \"subject\": \"Missing or Empty Files\"\n",
    "            }\n",
    "        ],\n",
    "        \"from\": {\n",
    "            \"email\": \"noreply@optimahub.com\"\n",
    "        },\n",
    "        \"content\": [\n",
    "            {\n",
    "            \"type\": \"text/plain\",\n",
    "            \"value\":message\n",
    "            }\n",
    "        ]\n",
    "        }\n",
    "    sg.client.mail.send.post(request_body=data)\n",
    "\n",
    "    \n",
    "       \n",
    "def Data_Plot(row,df):\n",
    "    if row['plot_type']=='pie':\n",
    "        ax=pd.pivot_table(df, index = 'campaign').plot(kind='pie',y='count'\n",
    "                                                       ,figsize=(5,5),title=row['title'])\n",
    "        ax.set_aspect('equal')\n",
    "    elif row['plot_type']=='stack':\n",
    "        if (df[list(df)[2]] == 0).all():\n",
    "            print row['description']+\" Files not present to Plot \" +row['title']+\"\\n\"\n",
    "        else:\n",
    "            ax=pd.pivot_table(df, index = list(df)[0], columns =list(df)[1], \n",
    "                              values =list(df)[2]).plot(kind = 'bar',title=row['Title'],\n",
    "                                                        width=0.8,figsize=(15,7),stacked=True)\n",
    "            ax.set_ylabel(list(df)[2],fontsize=16)\n",
    "    else:\n",
    "        if (df[list(df)[1]] == 0).all():\n",
    "            print row['description']+\" Files not present to Plot \" +row['title']+\"\\n\"\n",
    "        else:\n",
    "            ax=pd.pivot_table(df, index = list(df)[0],\n",
    "                              values =list(df)[1]).plot(kind = 'bar',title=row['title'],\n",
    "                                                        width=0.2,color='purple',figsize=(15,7))\n",
    "            ax.set_yscale('log',basey=10)\n",
    "            #ax.set_yticklabels(ax.get_yticks())\n",
    "            ax.set_ylabel(list(df)[1],fontsize=16)\n",
    "    mp.pyplot.show()\n",
    "            \n",
    "            \n",
    "def Create_Frame(clnt,start_date,end_date,start_date_string,end_date_string):\n",
    "    print clnt\n",
    "    client= bq.Client.from_service_account_json('inputs/service_account.json')\n",
    "    fields=[];rows=[]\n",
    "    with open(\"inputs/query.csv\",\"r\")  as fo:\n",
    "        csvreader = csv.DictReader(fo)\n",
    "        for row in csvreader:\n",
    "          row['query']=row['query'].format(client=clnt,start_date=start_date,end_date=end_date,\n",
    "                                           start_date_string=start_date_string,end_date_string=end_date_string)\n",
    "          try:\n",
    "            df=client.query(row['query']).to_dataframe()\n",
    "            if row['column']=='count': \n",
    "                missing_files=df.loc[df[row['column']] == 0]['date']\n",
    "                Empty_Files[row['description']]=list(missing_files)\n",
    "            if df.empty:\n",
    "                print row['description']+\" Files not present to Plot \" +row['title']+\"\\n\"\n",
    "                continue\n",
    "            else:\n",
    "                Data_Plot(row,df)\n",
    "          except Exception as e:\n",
    "            continue\n",
    "    missing_files={k: v for k, v in Empty_Files.items() if v}\n",
    "    return missing_files\n",
    "    \n",
    "    \n",
    "def main():\n",
    "    if os.path.isfile(arg_file):\n",
    "        with open(arg_file,'r+') as fo:\n",
    "            args = list(line for line in (val.rstrip() for val in fo) if line)   \n",
    "        client=args[0]\n",
    "        start_date=args[1] if len(args)>1 else (dt.datetime.now() \n",
    "                                                - dt.timedelta(11)).strftime('%Y-%m-%d')\n",
    "        end_date=args[2] if len(args)>2  else (dt.datetime.now() \n",
    "                                               - dt.timedelta(4)).strftime('%Y-%m-%d')\n",
    "        start_date_string = re.sub('-', '',start_date)\n",
    "        end_date_string=re.sub('-','',end_date)        \n",
    "    Empty_Files=Create_Frame(client,start_date,end_date,start_date_string,end_date_string)\n",
    "    with open('message',\"w+\") as fo:\n",
    "        for k,v in Empty_Files.items():\n",
    "          fo.write(k+' for below dates '+'\\n')\n",
    "          for val in v:\n",
    "                fo.write(str(val)+'\\n')\n",
    "    send_mail(start_date,end_date,client,'message')\n",
    "\n",
    "\n",
    "if __name__==\"__main__\":\n",
    "    main()"
   ]
  },
  {
   "cell_type": "code",
   "execution_count": null,
   "metadata": {},
   "outputs": [],
   "source": []
  },
  {
   "cell_type": "code",
   "execution_count": null,
   "metadata": {},
   "outputs": [],
   "source": []
  }
 ],
 "metadata": {
  "kernelspec": {
   "display_name": "Python 2",
   "language": "python",
   "name": "python2"
  },
  "language_info": {
   "codemirror_mode": {
    "name": "ipython",
    "version": 2
   },
   "file_extension": ".py",
   "mimetype": "text/x-python",
   "name": "python",
   "nbconvert_exporter": "python",
   "pygments_lexer": "ipython2",
   "version": "2.7.10"
  }
 },
 "nbformat": 4,
 "nbformat_minor": 2
}
